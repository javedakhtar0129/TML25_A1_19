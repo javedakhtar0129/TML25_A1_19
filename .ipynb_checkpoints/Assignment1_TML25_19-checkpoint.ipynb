{
 "cells": [
  {
   "cell_type": "code",
   "execution_count": 2,
   "id": "initial_id",
   "metadata": {
    "ExecuteTime": {
     "end_time": "2025-05-23T11:50:08.766534Z",
     "start_time": "2025-05-23T11:50:05.083968Z"
    }
   },
   "outputs": [],
   "source": [
    "import torch\n",
    "from torch.utils.data import Dataset\n",
    "from typing import Tuple\n",
    "import numpy as np\n",
    "import requests\n",
    "import pandas as pd"
   ]
  },
  {
   "cell_type": "code",
   "execution_count": 3,
   "id": "bfcb6bceb1ea99c1",
   "metadata": {
    "ExecuteTime": {
     "end_time": "2025-05-23T11:50:29.807459Z",
     "start_time": "2025-05-23T11:50:29.800412Z"
    }
   },
   "outputs": [],
   "source": [
    "### LOADING THE MODEL\n",
    "from torchvision.models import resnet18\n"
   ]
  },
  {
   "cell_type": "code",
   "execution_count": 4,
   "id": "ecba666babb3f3d5",
   "metadata": {
    "ExecuteTime": {
     "end_time": "2025-05-23T11:50:54.530321Z",
     "start_time": "2025-05-23T11:50:54.345334Z"
    }
   },
   "outputs": [
    {
     "name": "stderr",
     "output_type": "stream",
     "text": [
      "/Library/Frameworks/Python.framework/Versions/3.11/lib/python3.11/site-packages/torchvision/models/_utils.py:208: UserWarning: The parameter 'pretrained' is deprecated since 0.13 and may be removed in the future, please use 'weights' instead.\n",
      "  warnings.warn(\n",
      "/Library/Frameworks/Python.framework/Versions/3.11/lib/python3.11/site-packages/torchvision/models/_utils.py:223: UserWarning: Arguments other than a weight enum or `None` for 'weights' are deprecated since 0.13 and may be removed in the future. The current behavior is equivalent to passing `weights=None`.\n",
      "  warnings.warn(msg)\n"
     ]
    }
   ],
   "source": [
    "model = resnet18(pretrained=False)\n",
    "model.fc = torch.nn.Linear(512, 44)"
   ]
  },
  {
   "cell_type": "code",
   "execution_count": null,
   "id": "a67535bc39336feb",
   "metadata": {},
   "outputs": [],
   "source": [
    "ckpt = torch.load(\"./01_MIA.pt\", map_location=\"cpu\")\n",
    "\n",
    "model.load_state_dict(ckpt)\n",
    "\n",
    "#### DATASETS\n",
    "\n",
    "class TaskDataset(Dataset):\n",
    "    def __init__(self, transform=None):\n",
    "\n",
    "        self.ids = []\n",
    "        self.imgs = []\n",
    "        self.labels = []\n",
    "\n",
    "        self.transform = transform\n",
    "\n",
    "    def __getitem__(self, index) -> Tuple[int, torch.Tensor, int]:\n",
    "        id_ = self.ids[index]\n",
    "        img = self.imgs[index]\n",
    "        if not self.transform is None:\n",
    "            img = self.transform(img)\n",
    "        label = self.labels[index]\n",
    "        return id_, img, label\n",
    "\n",
    "    def __len__(self):\n",
    "        return len(self.ids)\n",
    "\n",
    "\n",
    "class MembershipDataset(TaskDataset):\n",
    "    def __init__(self, transform=None):\n",
    "        super().__init__(transform)\n",
    "        self.membership = []\n",
    "\n",
    "    def __getitem__(self, index) -> Tuple[int, torch.Tensor, int, int]:\n",
    "        id_, img, label = super().__getitem__(index)\n",
    "        return id_, img, label, self.membership[index]\n",
    "\n",
    "\n",
    "data: MembershipDataset = torch.load(\"./priv_out.pt\")\n",
    "\n",
    "#### EXAMPLE SUBMISSION\n",
    "\n",
    "df = pd.DataFrame(\n",
    "    {\n",
    "        \"ids\": data.ids,\n",
    "        \"score\": np.random.randn(len(data.ids)),\n",
    "    }\n",
    ")\n",
    "df.to_csv(\"test.csv\", index=None)\n",
    "\n",
    "response = requests.post(\"http://34.122.51.94:9090/mia\", files={\"file\": open(\"test.csv\", \"rb\")}, headers={\"token\": \"TOKEN\"})\n",
    "print(response.json())\n"
   ]
  }
 ],
 "metadata": {
  "kernelspec": {
   "display_name": "Python 3 (ipykernel)",
   "language": "python",
   "name": "python3"
  },
  "language_info": {
   "codemirror_mode": {
    "name": "ipython",
    "version": 3
   },
   "file_extension": ".py",
   "mimetype": "text/x-python",
   "name": "python",
   "nbconvert_exporter": "python",
   "pygments_lexer": "ipython3",
   "version": "3.11.0"
  }
 },
 "nbformat": 4,
 "nbformat_minor": 5
}
